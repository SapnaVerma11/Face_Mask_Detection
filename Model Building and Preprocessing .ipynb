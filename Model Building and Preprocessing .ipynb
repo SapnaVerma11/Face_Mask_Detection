{
  "nbformat": 4,
  "nbformat_minor": 0,
  "metadata": {
    "colab": {
      "name": "Untitled5.ipynb",
      "provenance": []
    },
    "kernelspec": {
      "name": "python3",
      "display_name": "Python 3"
    },
    "language_info": {
      "name": "python"
    },
    "accelerator": "GPU"
  },
  "cells": [
    {
      "cell_type": "code",
      "metadata": {
        "id": "jOHa_hqe1743"
      },
      "source": [
        "from keras.optimizers import RMSprop\n",
        "from keras.preprocessing.image import ImageDataGenerator\n",
        "import cv2\n",
        "from keras.models import Sequential\n",
        "from keras.layers import Conv2D, Input, ZeroPadding2D, BatchNormalization, Activation, MaxPooling2D, Flatten, Dense,Dropout\n",
        "from keras.models import Model, load_model\n",
        "from keras.callbacks import TensorBoard, ModelCheckpoint\n",
        "from sklearn.model_selection import train_test_split\n",
        "from sklearn.metrics import f1_score\n",
        "from sklearn.utils import shuffle\n",
        "import imutils"
      ],
      "execution_count": 1,
      "outputs": []
    },
    {
      "cell_type": "code",
      "metadata": {
        "id": "U8RjNFqO2JJc"
      },
      "source": [
        "model = Sequential([\n",
        "    Conv2D(100, (3,3), activation='relu', input_shape=(150, 150, 3)),\n",
        "    MaxPooling2D(2,2),\n",
        "    \n",
        "    Conv2D(100, (3,3), activation='relu'),\n",
        "    MaxPooling2D(2,2),\n",
        "    \n",
        "    Flatten(),\n",
        "    Dropout(0.5),\n",
        "    Dense(50, activation='relu'),\n",
        "    Dense(2, activation='softmax')\n",
        "])\n",
        "model.compile(optimizer='adam', loss='binary_crossentropy', metrics=['acc'])"
      ],
      "execution_count": 2,
      "outputs": []
    },
    {
      "cell_type": "code",
      "metadata": {
        "colab": {
          "base_uri": "https://localhost:8080/"
        },
        "id": "8HPgt3a12Vdm",
        "outputId": "c9bb2e5c-6921-4e95-ac75-e951bafb8bda"
      },
      "source": [
        "TRAINING_DIR = \"/content/drive/MyDrive/Face_mask_train/train\"\n",
        "train_datagen = ImageDataGenerator(rescale=1.0/255,\n",
        "                                   rotation_range=40,\n",
        "                                   width_shift_range=0.2,\n",
        "                                   height_shift_range=0.2,\n",
        "                                   shear_range=0.2,\n",
        "                                   zoom_range=0.2,\n",
        "                                   horizontal_flip=True,\n",
        "                                   fill_mode='nearest')\n",
        "train_generator = train_datagen.flow_from_directory(TRAINING_DIR, \n",
        "                                                    batch_size=10, \n",
        "                                                    target_size=(150, 150))\n",
        "VALIDATION_DIR = \"/content/drive/MyDrive/Face_mask_test/test\"\n",
        "validation_datagen = ImageDataGenerator(rescale=1.0/255)\n",
        "validation_generator = validation_datagen.flow_from_directory(VALIDATION_DIR, \n",
        "                                                         batch_size=10, \n",
        "                                                         target_size=(150, 150))"
      ],
      "execution_count": 3,
      "outputs": [
        {
          "output_type": "stream",
          "text": [
            "Found 1315 images belonging to 2 classes.\n",
            "Found 194 images belonging to 2 classes.\n"
          ],
          "name": "stdout"
        }
      ]
    },
    {
      "cell_type": "code",
      "metadata": {
        "colab": {
          "base_uri": "https://localhost:8080/"
        },
        "id": "INBevpOZ21Ig",
        "outputId": "8d5843e0-7d44-4756-d93f-b0149f79cfeb"
      },
      "source": [
        "history = model.fit_generator(train_generator,\n",
        "                              epochs=10,\n",
        "                              validation_data=validation_generator,\n",
        "                              )"
      ],
      "execution_count": 6,
      "outputs": [
        {
          "output_type": "stream",
          "text": [
            "/usr/local/lib/python3.7/dist-packages/tensorflow/python/keras/engine/training.py:1844: UserWarning: `Model.fit_generator` is deprecated and will be removed in a future version. Please use `Model.fit`, which supports generators.\n",
            "  warnings.warn('`Model.fit_generator` is deprecated and '\n"
          ],
          "name": "stderr"
        },
        {
          "output_type": "stream",
          "text": [
            "Epoch 1/10\n",
            "132/132 [==============================] - 15s 114ms/step - loss: 0.1822 - acc: 0.9255 - val_loss: 0.0652 - val_acc: 0.9639\n",
            "Epoch 2/10\n",
            "132/132 [==============================] - 15s 115ms/step - loss: 0.1863 - acc: 0.9278 - val_loss: 0.0892 - val_acc: 0.9536\n",
            "Epoch 3/10\n",
            "132/132 [==============================] - 15s 115ms/step - loss: 0.2048 - acc: 0.9194 - val_loss: 0.0527 - val_acc: 0.9794\n",
            "Epoch 4/10\n",
            "132/132 [==============================] - 15s 116ms/step - loss: 0.1767 - acc: 0.9384 - val_loss: 0.0682 - val_acc: 0.9691\n",
            "Epoch 5/10\n",
            "132/132 [==============================] - 15s 112ms/step - loss: 0.1411 - acc: 0.9536 - val_loss: 0.0782 - val_acc: 0.9742\n",
            "Epoch 6/10\n",
            "132/132 [==============================] - 15s 114ms/step - loss: 0.1465 - acc: 0.9430 - val_loss: 0.0518 - val_acc: 0.9691\n",
            "Epoch 7/10\n",
            "132/132 [==============================] - 15s 115ms/step - loss: 0.1419 - acc: 0.9498 - val_loss: 0.0584 - val_acc: 0.9691\n",
            "Epoch 8/10\n",
            "132/132 [==============================] - 15s 115ms/step - loss: 0.1217 - acc: 0.9536 - val_loss: 0.0989 - val_acc: 0.9588\n",
            "Epoch 9/10\n",
            "132/132 [==============================] - 15s 116ms/step - loss: 0.1512 - acc: 0.9452 - val_loss: 0.0888 - val_acc: 0.9588\n",
            "Epoch 10/10\n",
            "132/132 [==============================] - 15s 116ms/step - loss: 0.1441 - acc: 0.9468 - val_loss: 0.0282 - val_acc: 0.9897\n"
          ],
          "name": "stdout"
        }
      ]
    },
    {
      "cell_type": "code",
      "metadata": {
        "id": "NAPy9BXT25m5"
      },
      "source": [
        "model.save('/content/drive/My Drive/Face mask/mask.h5')\n"
      ],
      "execution_count": 10,
      "outputs": []
    }
  ]
}