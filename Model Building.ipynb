{
  "nbformat": 4,
  "nbformat_minor": 0,
  "metadata": {
    "colab": {
      "name": "Untitled4.ipynb",
      "provenance": []
    },
    "kernelspec": {
      "name": "python3",
      "display_name": "Python 3"
    },
    "language_info": {
      "name": "python"
    },
    "accelerator": "GPU"
  },
  "cells": [
    {
      "cell_type": "code",
      "metadata": {
        "id": "3_f-YptOsPI2"
      },
      "source": [
        "import tensorflow as tf "
      ],
      "execution_count": null,
      "outputs": []
    },
    {
      "cell_type": "code",
      "metadata": {
        "id": "I2ctI5BisiDh"
      },
      "source": [
        "import numpy as np\n",
        "import cv2\n",
        "import matplotlib.pyplot as plt\n",
        "import os\n",
        "\n",
        "import tensorflow as tf\n",
        "from tensorflow.keras.models import Sequential\n",
        "from tensorflow.keras.layers import Conv2D,BatchNormalization,MaxPooling2D,Flatten,Dense,Dropout"
      ],
      "execution_count": null,
      "outputs": []
    },
    {
      "cell_type": "code",
      "metadata": {
        "id": "9pUezfQJsozO"
      },
      "source": [
        "# path to your dataset\n",
        "path = '/content/drive/MyDrive/Face_mask_train/train'"
      ],
      "execution_count": null,
      "outputs": []
    },
    {
      "cell_type": "code",
      "metadata": {
        "colab": {
          "base_uri": "https://localhost:8080/"
        },
        "id": "mjjJPo30s62t",
        "outputId": "e55ed1ab-3504-4067-e311-430519cadb35"
      },
      "source": [
        "folders = os.listdir(path)\n",
        "folders"
      ],
      "execution_count": null,
      "outputs": [
        {
          "output_type": "execute_result",
          "data": {
            "text/plain": [
              "['without_mask', 'with_mask']"
            ]
          },
          "metadata": {
            "tags": []
          },
          "execution_count": 4
        }
      ]
    },
    {
      "cell_type": "code",
      "metadata": {
        "colab": {
          "base_uri": "https://localhost:8080/"
        },
        "id": "-hnOObgztAbq",
        "outputId": "6bc0f151-9ced-4159-f260-2bbca23eaa3c"
      },
      "source": [
        "#initializations\n",
        "data = []\n",
        "#looping through all the folders\n",
        "for folder in folders: \n",
        "    new_path = os.path.join(path,folder)\n",
        "    total = len(os.listdir(new_path))\n",
        "    label = folders.index(folder)\n",
        "    print('folder_name = {} and no of images = {}'.format(folder,total))\n",
        "    for img in os.listdir(new_path):#loop through all the images in that folder\n",
        "    #read the images one by one\n",
        "      try:\n",
        "          img = cv2.imread( os.path.join(new_path,img),0) #grayscale\n",
        "          img = cv2.resize(img,(100,100)) #check here once\n",
        "          data.append([img,label])\n",
        "      except Exception as e:\n",
        "          print('Exception ',e)"
      ],
      "execution_count": null,
      "outputs": [
        {
          "output_type": "stream",
          "text": [
            "folder_name = without_mask and no of images = 657\n",
            "folder_name = with_mask and no of images = 658\n"
          ],
          "name": "stdout"
        }
      ]
    },
    {
      "cell_type": "code",
      "metadata": {
        "id": "c1UT24AltG4k"
      },
      "source": [
        "#shuffle the data in place\n",
        "import random\n",
        "random.shuffle(data)"
      ],
      "execution_count": null,
      "outputs": []
    },
    {
      "cell_type": "code",
      "metadata": {
        "id": "oAePf2hJtcs8"
      },
      "source": [
        "#seperating images are labels after shuffling\n",
        "images = []\n",
        "labels = []\n",
        "for image,label in data:\n",
        "    images.append(image)\n",
        "    labels.append(label)"
      ],
      "execution_count": null,
      "outputs": []
    },
    {
      "cell_type": "code",
      "metadata": {
        "id": "0otcMLW0tc4W"
      },
      "source": [
        "#normalizing the images \n",
        "images = np.array(images)/255\n",
        "labels = np.array(labels)"
      ],
      "execution_count": null,
      "outputs": []
    },
    {
      "cell_type": "code",
      "metadata": {
        "colab": {
          "base_uri": "https://localhost:8080/"
        },
        "id": "XxQ6V-fgtsVj",
        "outputId": "60469332-d555-4ce4-be37-09529c94f98e"
      },
      "source": [
        "images.shape"
      ],
      "execution_count": null,
      "outputs": [
        {
          "output_type": "execute_result",
          "data": {
            "text/plain": [
              "(1315, 100, 100)"
            ]
          },
          "metadata": {
            "tags": []
          },
          "execution_count": 10
        }
      ]
    },
    {
      "cell_type": "code",
      "metadata": {
        "id": "vM1OvJJsxp9u"
      },
      "source": [
        "#converting to 4D \n",
        "images = np.expand_dims(images,axis = 3)\n"
      ],
      "execution_count": null,
      "outputs": []
    },
    {
      "cell_type": "code",
      "metadata": {
        "colab": {
          "base_uri": "https://localhost:8080/"
        },
        "id": "wxhsi6Gsxrsy",
        "outputId": "e4dee7db-4b10-4461-bc12-af888d76e2e4"
      },
      "source": [
        "images.shape"
      ],
      "execution_count": null,
      "outputs": [
        {
          "output_type": "execute_result",
          "data": {
            "text/plain": [
              "(1315, 100, 100, 1)"
            ]
          },
          "metadata": {
            "tags": []
          },
          "execution_count": 12
        }
      ]
    },
    {
      "cell_type": "code",
      "metadata": {
        "id": "uPRr0pwJtsgI"
      },
      "source": [
        "# seperating train and test dataset\n",
        "from sklearn.model_selection import train_test_split\n",
        "X_train,X_test,y_train,y_test = train_test_split(images,labels,test_size = 0.1,random_state = 0)"
      ],
      "execution_count": null,
      "outputs": []
    },
    {
      "cell_type": "code",
      "metadata": {
        "id": "we04hqe3uG1X"
      },
      "source": [
        "#initializing the model\n",
        "model=Sequential()\n",
        "\n",
        "#The first CNN layer followed by Relu and MaxPooling layers\n",
        "model.add(Conv2D(200,(3,3),activation = 'relu',input_shape=images.shape[1:]))\n",
        "model.add(MaxPooling2D())\n",
        "\n",
        "#The second convolution layer followed by Relu and MaxPooling layers\n",
        "model.add(Conv2D(100,(3,3),activation = 'relu'))\n",
        "model.add(MaxPooling2D())\n",
        "\n",
        "#Flattening \n",
        "model.add(Flatten())\n",
        "\n",
        "#Adding dropout to avoid overfitting\n",
        "model.add(Dropout(0.5))\n",
        "\n",
        "#Dense Layer of 50 neurons\n",
        "model.add(Dense(50,activation='relu'))\n",
        "\n",
        "#Output layer\n",
        "model.add(Dense(1,activation='sigmoid'))"
      ],
      "execution_count": null,
      "outputs": []
    },
    {
      "cell_type": "code",
      "metadata": {
        "colab": {
          "base_uri": "https://localhost:8080/"
        },
        "id": "Ee1U_G0juHBE",
        "outputId": "8b82fc1e-4b36-480f-fa96-312b25ed1dde"
      },
      "source": [
        "#summary\n",
        "model.summary()"
      ],
      "execution_count": null,
      "outputs": [
        {
          "output_type": "stream",
          "text": [
            "Model: \"sequential\"\n",
            "_________________________________________________________________\n",
            "Layer (type)                 Output Shape              Param #   \n",
            "=================================================================\n",
            "conv2d (Conv2D)              (None, 98, 98, 200)       2000      \n",
            "_________________________________________________________________\n",
            "max_pooling2d (MaxPooling2D) (None, 49, 49, 200)       0         \n",
            "_________________________________________________________________\n",
            "conv2d_1 (Conv2D)            (None, 47, 47, 100)       180100    \n",
            "_________________________________________________________________\n",
            "max_pooling2d_1 (MaxPooling2 (None, 23, 23, 100)       0         \n",
            "_________________________________________________________________\n",
            "flatten (Flatten)            (None, 52900)             0         \n",
            "_________________________________________________________________\n",
            "dropout (Dropout)            (None, 52900)             0         \n",
            "_________________________________________________________________\n",
            "dense (Dense)                (None, 50)                2645050   \n",
            "_________________________________________________________________\n",
            "dense_1 (Dense)              (None, 1)                 51        \n",
            "=================================================================\n",
            "Total params: 2,827,201\n",
            "Trainable params: 2,827,201\n",
            "Non-trainable params: 0\n",
            "_________________________________________________________________\n"
          ],
          "name": "stdout"
        }
      ]
    },
    {
      "cell_type": "code",
      "metadata": {
        "id": "GWKkPwlovNB2"
      },
      "source": [
        "model.compile(optimizer='adam',loss = 'binary_crossentropy',metrics = ['accuracy'])\n"
      ],
      "execution_count": null,
      "outputs": []
    },
    {
      "cell_type": "code",
      "metadata": {
        "colab": {
          "base_uri": "https://localhost:8080/"
        },
        "id": "w5E7RKMvu8e4",
        "outputId": "0b643bfe-a44f-452c-a92c-2aaaa332a48f"
      },
      "source": [
        "# BATCH_SIZE = 32\n",
        "EPOCHS = 10\n",
        "history=model.fit(X_train,y_train,epochs=EPOCHS, validation_data = (X_test,y_test)) #,callbacks=[checkpoint]"
      ],
      "execution_count": null,
      "outputs": [
        {
          "output_type": "stream",
          "text": [
            "Epoch 1/10\n",
            "37/37 [==============================] - 36s 74ms/step - loss: 0.7404 - accuracy: 0.5137 - val_loss: 0.6899 - val_accuracy: 0.6742\n",
            "Epoch 2/10\n",
            "37/37 [==============================] - 2s 44ms/step - loss: 0.6714 - accuracy: 0.6079 - val_loss: 0.5505 - val_accuracy: 0.6742\n",
            "Epoch 3/10\n",
            "37/37 [==============================] - 2s 44ms/step - loss: 0.5184 - accuracy: 0.7759 - val_loss: 0.3588 - val_accuracy: 0.8712\n",
            "Epoch 4/10\n",
            "37/37 [==============================] - 2s 44ms/step - loss: 0.3832 - accuracy: 0.8269 - val_loss: 0.3227 - val_accuracy: 0.8485\n",
            "Epoch 5/10\n",
            "37/37 [==============================] - 2s 44ms/step - loss: 0.2972 - accuracy: 0.8850 - val_loss: 0.2195 - val_accuracy: 0.9167\n",
            "Epoch 6/10\n",
            "37/37 [==============================] - 2s 43ms/step - loss: 0.2451 - accuracy: 0.9095 - val_loss: 0.1875 - val_accuracy: 0.9318\n",
            "Epoch 7/10\n",
            "37/37 [==============================] - 2s 44ms/step - loss: 0.1815 - accuracy: 0.9381 - val_loss: 0.1307 - val_accuracy: 0.9394\n",
            "Epoch 8/10\n",
            "37/37 [==============================] - 2s 44ms/step - loss: 0.1645 - accuracy: 0.9230 - val_loss: 0.1218 - val_accuracy: 0.9621\n",
            "Epoch 9/10\n",
            "37/37 [==============================] - 2s 44ms/step - loss: 0.1241 - accuracy: 0.9456 - val_loss: 0.1366 - val_accuracy: 0.9394\n",
            "Epoch 10/10\n",
            "37/37 [==============================] - 2s 44ms/step - loss: 0.1032 - accuracy: 0.9674 - val_loss: 0.1045 - val_accuracy: 0.9621\n"
          ],
          "name": "stdout"
        }
      ]
    },
    {
      "cell_type": "code",
      "metadata": {
        "id": "IwrHZb4axUxt"
      },
      "source": [
        "model.save('/content/drive/My Drive/FACE MASK/mask.h5')\n"
      ],
      "execution_count": null,
      "outputs": []
    },
    {
      "cell_type": "code",
      "metadata": {
        "id": "6Ho9LqMYyvS7"
      },
      "source": [
        ""
      ],
      "execution_count": null,
      "outputs": []
    }
  ]
}