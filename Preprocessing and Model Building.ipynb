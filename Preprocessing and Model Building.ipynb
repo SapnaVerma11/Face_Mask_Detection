{
  "nbformat": 4,
  "nbformat_minor": 0,
  "metadata": {
    "accelerator": "GPU",
    "colab": {
      "name": "Untitled7.ipynb",
      "provenance": []
    },
    "kernelspec": {
      "display_name": "Python 3",
      "name": "python3"
    },
    "language_info": {
      "name": "python"
    }
  },
  "cells": [
    {
      "cell_type": "code",
      "metadata": {
        "id": "oJnCfVTxqQ8k"
      },
      "source": [
        "#importing the libraries \n",
        "from keras.preprocessing.image import ImageDataGenerator\n",
        "import cv2\n",
        "from keras.models import Sequential\n",
        "from keras.layers import Conv2D, Input, ZeroPadding2D, BatchNormalization, Activation, MaxPooling2D, Flatten, Dense,Dropout\n",
        "from keras.models import Model, load_model\n",
        "from keras.callbacks import ModelCheckpoint\n",
        "from sklearn.model_selection import train_test_split\n",
        "from sklearn.metrics import f1_score\n",
        "import numpy as np"
      ],
      "execution_count": null,
      "outputs": []
    },
    {
      "cell_type": "code",
      "metadata": {
        "id": "5XqDjIG-qnXU"
      },
      "source": [
        "# Model Building \n",
        "model = Sequential([\n",
        "    Conv2D(100, (3,3), activation='relu', input_shape=(150, 150, 3)),\n",
        "    MaxPooling2D(2,2),\n",
        "    \n",
        "    Conv2D(100, (3,3), activation='relu'),\n",
        "    MaxPooling2D(2,2),\n",
        "    \n",
        "    Flatten(),\n",
        "    Dropout(0.5),\n",
        "    Dense(50, activation='relu'),\n",
        "    Dense(2, activation='sigmoid')\n",
        "])\n",
        "model.compile(optimizer='adam', loss='binary_crossentropy', metrics=['acc'])"
      ],
      "execution_count": null,
      "outputs": []
    },
    {
      "cell_type": "code",
      "metadata": {
        "colab": {
          "base_uri": "https://localhost:8080/"
        },
        "id": "hduslAkgqnlr",
        "outputId": "53f184fe-3704-40cd-9c4c-18d28a7ca9c6"
      },
      "source": [
        "# Data Augumentation \n",
        "# Add our data-augmentation parameters to ImageDataGenerator\n",
        "TRAINING_DIR = \"/content/drive/MyDrive/Face_mask_train/train\"\n",
        "train_datagen = ImageDataGenerator(rescale=1.0/255,\n",
        "                                   rotation_range=40,\n",
        "                                   width_shift_range=0.2,\n",
        "                                   height_shift_range=0.2,\n",
        "                                   shear_range=0.2,\n",
        "                                   zoom_range=0.2,\n",
        "                                   horizontal_flip=True,\n",
        "                                   fill_mode='nearest')\n",
        "# Flow training images in batches of 10 using train_datagen generator\n",
        "train_generator = train_datagen.flow_from_directory(TRAINING_DIR, \n",
        "                                                    batch_size=10, \n",
        "                                                    target_size=(150, 150))"
      ],
      "execution_count": null,
      "outputs": [
        {
          "output_type": "stream",
          "text": [
            "Found 1315 images belonging to 2 classes.\n"
          ],
          "name": "stdout"
        }
      ]
    },
    {
      "cell_type": "code",
      "metadata": {
        "colab": {
          "base_uri": "https://localhost:8080/"
        },
        "id": "zxhbzN38quCP",
        "outputId": "e23edb84-fbe3-48df-890e-1bf6ef15c8ec"
      },
      "source": [
        "# Flow validation images in batches of 10 using validation_datagen generator\n",
        "VALIDATION_DIR = \"/content/drive/MyDrive/Face_mask_test/test\"\n",
        "validation_datagen = ImageDataGenerator(rescale=1.0/255)\n",
        "validation_generator = validation_datagen.flow_from_directory(VALIDATION_DIR, \n",
        "                                                         batch_size=10, \n",
        "                                                         target_size=(150, 150))"
      ],
      "execution_count": null,
      "outputs": [
        {
          "output_type": "stream",
          "text": [
            "Found 194 images belonging to 2 classes.\n"
          ],
          "name": "stdout"
        }
      ]
    },
    {
      "cell_type": "code",
      "metadata": {
        "id": "_hS8HoyCrUc2"
      },
      "source": [
        "checkpoint = ModelCheckpoint('model2-{epoch:03d}.h5',monitor='val_loss',verbose=0,save_best_only=True,mode='auto')"
      ],
      "execution_count": null,
      "outputs": []
    },
    {
      "cell_type": "code",
      "metadata": {
        "colab": {
          "base_uri": "https://localhost:8080/"
        },
        "id": "AKlERzoHspT7",
        "outputId": "e6765ce3-c4cf-4400-90a7-810a3fd29270"
      },
      "source": [
        "# Model training and Evaluation \n",
        "history = model.fit_generator(train_generator,\n",
        "                              epochs=10,\n",
        "                              validation_data=validation_generator,\n",
        "                              callbacks=[checkpoint])"
      ],
      "execution_count": null,
      "outputs": [
        {
          "output_type": "stream",
          "text": [
            "/usr/local/lib/python3.7/dist-packages/tensorflow/python/keras/engine/training.py:1844: UserWarning: `Model.fit_generator` is deprecated and will be removed in a future version. Please use `Model.fit`, which supports generators.\n",
            "  warnings.warn('`Model.fit_generator` is deprecated and '\n"
          ],
          "name": "stderr"
        },
        {
          "output_type": "stream",
          "text": [
            "Epoch 1/10\n",
            "132/132 [==============================] - 457s 3s/step - loss: 0.5926 - acc: 0.6934 - val_loss: 0.1959 - val_acc: 0.9433\n",
            "Epoch 2/10\n",
            "132/132 [==============================] - 15s 115ms/step - loss: 0.3471 - acc: 0.8667 - val_loss: 0.1393 - val_acc: 0.9433\n",
            "Epoch 3/10\n",
            "132/132 [==============================] - 15s 114ms/step - loss: 0.2607 - acc: 0.9011 - val_loss: 0.0779 - val_acc: 0.9742\n",
            "Epoch 4/10\n",
            "132/132 [==============================] - 15s 113ms/step - loss: 0.2148 - acc: 0.9290 - val_loss: 0.1325 - val_acc: 0.9381\n",
            "Epoch 5/10\n",
            "132/132 [==============================] - 15s 117ms/step - loss: 0.2281 - acc: 0.9146 - val_loss: 0.1064 - val_acc: 0.9691\n",
            "Epoch 6/10\n",
            "132/132 [==============================] - 16s 118ms/step - loss: 0.2292 - acc: 0.9023 - val_loss: 0.0755 - val_acc: 0.9845\n",
            "Epoch 7/10\n",
            "132/132 [==============================] - 16s 118ms/step - loss: 0.2613 - acc: 0.8863 - val_loss: 0.0698 - val_acc: 0.9639\n",
            "Epoch 8/10\n",
            "132/132 [==============================] - 16s 120ms/step - loss: 0.2065 - acc: 0.9294 - val_loss: 0.0806 - val_acc: 0.9794\n",
            "Epoch 9/10\n",
            "132/132 [==============================] - 16s 118ms/step - loss: 0.1566 - acc: 0.9416 - val_loss: 0.1586 - val_acc: 0.9124\n",
            "Epoch 10/10\n",
            "132/132 [==============================] - 15s 117ms/step - loss: 0.2400 - acc: 0.9098 - val_loss: 0.0370 - val_acc: 0.9948\n"
          ],
          "name": "stdout"
        }
      ]
    },
    {
      "cell_type": "code",
      "metadata": {
        "id": "KYLfMRm6Vdz4"
      },
      "source": [
        ""
      ],
      "execution_count": null,
      "outputs": []
    }
  ]
}