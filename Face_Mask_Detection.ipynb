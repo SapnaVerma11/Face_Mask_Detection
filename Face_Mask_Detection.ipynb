{
  "nbformat": 4,
  "nbformat_minor": 0,
  "metadata": {
    "colab": {
      "name": "Untitled1.ipynb",
      "provenance": []
    },
    "kernelspec": {
      "name": "python3",
      "display_name": "Python 3"
    },
    "language_info": {
      "name": "python"
    }
  },
  "cells": [
    {
      "cell_type": "code",
      "metadata": {
        "id": "oQkt6Q8k9_WJ"
      },
      "source": [
        "from google.colab import drive\n",
        "drive.mount('/content/drive')"
      ],
      "execution_count": null,
      "outputs": []
    },
    {
      "cell_type": "code",
      "metadata": {
        "id": "GX5OFwoJ-Cgk"
      },
      "source": [
        "#importing essential libraries\n",
        "from tensorflow.keras.models import load_model\n",
        "import cv2\n",
        "import numpy as np"
      ],
      "execution_count": null,
      "outputs": []
    },
    {
      "cell_type": "code",
      "metadata": {
        "id": "8JV0VEbk-KSO"
      },
      "source": [
        "#path of the trained model\n",
        "model_path = 'model2-009.h5'   #replace with your model_path\n",
        "#Loading the model\n",
        "model = load_model(model_path)\n",
        "#Loading haarcascade to detect the faces\n",
        "face_clsfr = cv2.CascadeClassifier('haarcascade_frontalface_default.xml')\n",
        "\n",
        "#some initializations\n",
        "labels_dict = {0:'NO MASK',1:'MASK'}\n",
        "color_dict = {0:(0,0,255),1:(0,255,0)}"
      ],
      "execution_count": null,
      "outputs": []
    },
    {
      "cell_type": "code",
      "metadata": {
        "id": "-vMWwuzL-KYi"
      },
      "source": [
        "#set the image size\n",
        "IMG_SIZE = 100"
      ],
      "execution_count": null,
      "outputs": []
    },
    {
      "cell_type": "code",
      "metadata": {
        "id": "cK7Ounfa-9EG"
      },
      "source": [
        "#setting the source as webcam\n",
        "cap = cv2.VideoCapture(0)\n",
        "while(True):\n",
        "    #reading the image frames\n",
        "    ret,img = cap.read()\n",
        "    #converting to grayscale images\n",
        "    gray = cv2.cvtColor(img,cv2.COLOR_BGR2GRAY)\n",
        "    #multiple faces\n",
        "    faces = face_clsfr.detectMultiScale(gray,1.3,5)  \n",
        "    \n",
        "    for (x,y,w,h) in faces:\n",
        "        #region of interest\n",
        "        roi = gray[y:y+w,x:x+w]\n",
        "        #resize the image to specified dimension\n",
        "        roi_resized = cv2.resize(roi,(IMG_SIZE,IMG_SIZE))\n",
        "        #normalize\n",
        "        roi_normalized = roi_resized/255\n",
        "        #converting into a batch of 1 image\n",
        "        roi_reshaped = np.reshape(roi_normalized,(1,IMG_SIZE,IMG_SIZE,1))\n",
        "        #model prediction\n",
        "        result = model.predict(roi_reshaped)\n",
        "        #getting the label\n",
        "        label = int(np.round(result[0][0]))\n",
        "        #drawing the rectangle around the faces\n",
        "        cv2.rectangle(img,(x,y),(x+w,y+h),color_dict[label],2)\n",
        "        #drawing one more rectangle for giving title\n",
        "        cv2.rectangle(img,(x,y-40),(x+w,y),color_dict[label],-1)\n",
        "        #mask or no mask text\n",
        "        cv2.putText(img, labels_dict[label], (x, y-10),cv2.FONT_HERSHEY_SIMPLEX,0.8,(255,255,255),2)\n",
        "\n",
        "    cv2.imshow('LIVE',img)\n",
        "    key = cv2.waitKey(1)\n",
        "    \n",
        "    #break if escape key is pressed\n",
        "    if(key == 27):\n",
        "        break\n",
        "#destroy all the windows\n",
        "cv2.destroyAllWindows()\n",
        "cap.release()"
      ],
      "execution_count": null,
      "outputs": []
    }
  ]
}